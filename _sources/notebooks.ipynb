{
 "cells": [
  {
   "cell_type": "markdown",
   "source": [
    "# Set 2 Questions & Solutions\n",
    "---\n",
    "---"
   ],
   "metadata": {
    "collapsed": false
   }
  },
  {
   "cell_type": "markdown",
   "source": [
    "### 1. Checking if a DNA String is Palindrome (No Loop Edition)\n",
    "---\n",
    "\n",
    "A palindrome is a string that reads the same forwards and backwards. However, it is important to note that in the context of DNA, **directionality** plays a crucial role. Therefore, when assessing the palindromic nature of DNA sequences, one must consider the directional properties.\n",
    "\n",
    "Typically, when manually inspecting DNA sequences for palindromic properties, we draw the reverse complement of the DNA sequence. THis allows us to visually compare both strands, ensuring they are identical when read from 5' to 3' direction.\n",
    "\n",
    "\n",
    "```{admonition} Algorithm\n",
    ":class: tip\n",
    "1. complement dna string by masking with a third character / using built-in transalate method\n",
    "2. reverse the dna string using negative indexing\n",
    "3. check if dna and cdna are same utilizing equality operator\n",
    "```\n",
    "\n",
    "Here is a possible solution:"
   ],
   "metadata": {
    "collapsed": false
   }
  },
  {
   "cell_type": "code",
   "execution_count": 11,
   "outputs": [
    {
     "name": "stdout",
     "output_type": "stream",
     "text": [
      "GGTCGGCGCAACATGTTGCGCCGACC\n"
     ]
    }
   ],
   "source": [
    "# Step - 1 | Generate Complement Sequence\n",
    "dna_sequence = 'CCAGCCGCGTTGTACAACGCGGCTGG'\n",
    "\n",
    "\"\"\"\n",
    "# Utilizing a Mask Character\n",
    "complement_dna_sequence = dna_sequence.replace('A', '_')\n",
    "complement_dna_sequence = complement_dna_sequence.replace('T', 'A')\n",
    "complement_dna_sequence = complement_dna_sequence.replace('_', 'T')\n",
    "complement_dna_sequence = complement_dna_sequence.replace('C', '_')\n",
    "complement_dna_sequence = complement_dna_sequence.replace('G', 'C')\n",
    "complement_dna_sequence = complement_dna_sequence.replace('_', 'G')\n",
    "\"\"\"\n",
    "\n",
    "# Use built-in translate method\n",
    "complement_dna_sequence = dna_sequence.translate({\n",
    "    65: 84,\n",
    "    84: 65,\n",
    "    67: 71,\n",
    "    71: 67\n",
    "})\n",
    "\n",
    "print(complement_dna_sequence)"
   ],
   "metadata": {
    "collapsed": false,
    "ExecuteTime": {
     "end_time": "2024-01-20T21:11:23.714823900Z",
     "start_time": "2024-01-20T21:11:23.699847300Z"
    }
   }
  },
  {
   "cell_type": "code",
   "execution_count": 12,
   "outputs": [
    {
     "name": "stdout",
     "output_type": "stream",
     "text": [
      "CCAGCCGCGTTGTACAACGCGGCTGG\n"
     ]
    }
   ],
   "source": [
    "# Step - 2 | Generate Reverse Complement\n",
    "reverse_complement_dna_sequence = complement_dna_sequence[::-1]\n",
    "\n",
    "print(reverse_complement_dna_sequence)"
   ],
   "metadata": {
    "collapsed": false,
    "ExecuteTime": {
     "end_time": "2024-01-20T21:11:23.730494500Z",
     "start_time": "2024-01-20T21:11:23.705968400Z"
    }
   }
  },
  {
   "cell_type": "code",
   "execution_count": 13,
   "outputs": [
    {
     "name": "stdout",
     "output_type": "stream",
     "text": [
      "True\n"
     ]
    }
   ],
   "source": [
    "# Step - 3 | Check Equality\n",
    "\n",
    "print(dna_sequence == reverse_complement_dna_sequence)"
   ],
   "metadata": {
    "collapsed": false,
    "ExecuteTime": {
     "end_time": "2024-01-20T21:11:23.732079800Z",
     "start_time": "2024-01-20T21:11:23.710385300Z"
    }
   }
  },
  {
   "cell_type": "markdown",
   "source": [
    "As beginners, we often tend to move on quickly after writing code that works. However, it is crucial to engage in a self-reflection and consider potential optimization in our algorithms. This practice should be done not only immediately after coding, but also periodically as we acquire new concepts. Such a habit can significantly accelerate our learning process.\n",
    "\n",
    "```{admonition} Optimization\n",
    ":class: note\n",
    "From a biological standpoint, considering DNA sequences with an odd number of bases for this specific problem doesn't make sense, right? This highlights why having a strong grasp of domain knowledge is crucial when tackling domain-specific problems. Optimizations might seem apparent to those familiar with the concepts, but they might not be as obvious to others. Understanding the fundamentals of the field is super important.\n",
    "\n",
    "Our first step should be to discard any DNA having odd length.\n",
    "```\n",
    "\n",
    "Revised Code:"
   ],
   "metadata": {
    "collapsed": false
   }
  },
  {
   "cell_type": "code",
   "execution_count": 14,
   "outputs": [
    {
     "name": "stdout",
     "output_type": "stream",
     "text": [
      "True\n"
     ]
    }
   ],
   "source": [
    "dna_sequence = 'CCAGCCGCGTTGTACAACGCGGCTGG'  # User Input\n",
    "\n",
    "if len(dna_sequence) % 2:  # Check if DNA is of odd length\n",
    "    print(False)\n",
    "else:\n",
    "    # Use built-in translate method\n",
    "    complement_dna_sequence = dna_sequence.translate({\n",
    "        65: 84,\n",
    "        84: 65,\n",
    "        67: 71,\n",
    "        71: 67\n",
    "    })\n",
    "    \n",
    "    # Generate Reverse Complement\n",
    "    reverse_complement_dna_sequence = complement_dna_sequence[::-1]\n",
    "\n",
    "    # Check Equality\n",
    "    print(dna_sequence == reverse_complement_dna_sequence)"
   ],
   "metadata": {
    "collapsed": false,
    "ExecuteTime": {
     "end_time": "2024-01-20T21:45:49.548849900Z",
     "start_time": "2024-01-20T21:45:49.539292500Z"
    }
   }
  },
  {
   "cell_type": "markdown",
   "source": [
    "**TiMe To fLeX**"
   ],
   "metadata": {
    "collapsed": false
   }
  },
  {
   "cell_type": "code",
   "execution_count": 18,
   "outputs": [
    {
     "name": "stdout",
     "output_type": "stream",
     "text": [
      "True\n"
     ]
    }
   ],
   "source": [
    "print(dna_sequence == dna_sequence.translate({65: 84, 84: 65, 67: 71, 71: 67})[::-1] if not len(dna_sequence) % 2 else False)"
   ],
   "metadata": {
    "collapsed": false,
    "ExecuteTime": {
     "end_time": "2024-01-20T21:49:16.153732300Z",
     "start_time": "2024-01-20T21:49:16.122221300Z"
    }
   }
  },
  {
   "cell_type": "markdown",
   "source": [
    "Wow, did I just do that? *Am I a coding wizard?* But hold on, let me offer a word of caution about these one-liner solutions. While I won't dive into the details of what I did here (feel free to explore it on your own, or check back on this page after a month or two of learning), it's important to understand that such practices can be deceptive.\n",
    "\n",
    "```{admonition} Avoid One-Liners\n",
    ":class: danger\n",
    "To all the beginners out there: these one-liners might seem like magic and incredibly cool, but they are often not suitable for production-level code or for code that will be used by others. As a beginner, your primary focus should be on writing code that is readable, with well-chosen variable names and balanced comments – not too many, but just enough.\n",
    "```\n",
    "\n",
    "Remember, the goal is not to reduce the character count of your script; your code should be as understandable as plain English. Adopting good practices from the start is crucial. I wish someone had told me this when I was beginning my coding journey 🥲."
   ],
   "metadata": {
    "collapsed": false
   }
  },
  {
   "cell_type": "markdown",
   "source": [
    "### 2. RNA From DNA (No loop edition)\n",
    "---\n",
    "\n",
    "*to be updated*"
   ],
   "metadata": {
    "collapsed": false
   }
  },
  {
   "cell_type": "markdown",
   "source": [
    "### 3. Finding the last occurrence of a substring in string (No loop edition)\n",
    "---\n",
    "\n",
    "*to be updated*"
   ],
   "metadata": {
    "collapsed": false
   }
  },
  {
   "cell_type": "markdown",
   "source": [
    "### 4. Calculating GC Content of a DNA sequence (No Loop Edition)\n",
    "---"
   ],
   "metadata": {
    "collapsed": false
   }
  },
  {
   "cell_type": "code",
   "execution_count": 23,
   "outputs": [
    {
     "name": "stdout",
     "output_type": "stream",
     "text": [
      "GC % of the DNA sequence is = 69.23%\n"
     ]
    }
   ],
   "source": [
    "g_count = dna_sequence.count('G')\n",
    "c_count = dna_sequence.count('C')\n",
    "\n",
    "gc_percentage = (g_count + c_count) * 100 / len(dna_sequence)\n",
    "\n",
    "print(f'GC % of the DNA sequence is = {round(gc_percentage, 2)}%')"
   ],
   "metadata": {
    "collapsed": false,
    "ExecuteTime": {
     "end_time": "2024-01-20T22:42:22.645281Z",
     "start_time": "2024-01-20T22:42:22.616983800Z"
    }
   }
  },
  {
   "cell_type": "markdown",
   "source": [
    "### 5. Determining if a year is a Leap Year\n",
    "---\n",
    "\n",
    "*to be updated*"
   ],
   "metadata": {
    "collapsed": false
   }
  }
 ],
 "metadata": {
  "kernelspec": {
   "display_name": "Python 3",
   "language": "python",
   "name": "python3"
  },
  "language_info": {
   "codemirror_mode": {
    "name": "ipython",
    "version": 3
   },
   "file_extension": ".py",
   "mimetype": "text/x-python",
   "name": "python",
   "nbconvert_exporter": "python",
   "pygments_lexer": "ipython3",
   "version": "3.8.0"
  },
  "widgets": {
   "application/vnd.jupyter.widget-state+json": {
    "state": {},
    "version_major": 2,
    "version_minor": 0
   }
  }
 },
 "nbformat": 4,
 "nbformat_minor": 4
}
