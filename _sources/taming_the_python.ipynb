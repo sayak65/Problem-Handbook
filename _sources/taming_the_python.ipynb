{
 "cells": [
  {
   "cell_type": "markdown",
   "source": [
    "# Taming The `Python`\n",
    "---\n",
    "---"
   ],
   "metadata": {
    "collapsed": false
   },
   "id": "5b13db3434fe504e"
  },
  {
   "cell_type": "markdown",
   "source": [
    "![image](2.spiderman-taming-python.jpeg)"
   ],
   "metadata": {
    "collapsed": false
   },
   "id": "fac472a42fab4ef6"
  },
  {
   "cell_type": "markdown",
   "source": [
    "## Resources\n",
    "---\n",
    "\n",
    "The world of programming is rich with free and open-source resources, a notable contrast to the field of biology. There are numerous high-quality books and content creators available. When I began my programming journey, I followed a pirated course, the name of which escapes me at the moment (I might update this in the future).\n",
    "\n",
    "However, there is no need for concern. Sticking to any one of the good resources available should set you on the right path. While I did not rely on any specific YouTube channels for learning Python, I have found that **Corey Schafer's** videos are excellent for revision once you have grasped the basic concepts.\n",
    "\n",
    "[CoreySchafer playlist](https://www.youtube.com/watch?v=YYXdXT2l-Gg&list=PL-osiE80TeTskrapNbzXhwoFUiLCjGgY7&ab_channel=CoreySchafer)\n",
    "\n",
    "For more structured courses, I have heard positive reviews about this playlist by **Code With Harry**:\n",
    "\n",
    "[CodeWithHarry playlist](https://www.youtube.com/watch?v=7wnove7K-ZQ&list=PLu0W_9lII9agwh1XjRt242xIpHhPT2llg)\n",
    "\n",
    "My advice is to stick to a single playlist when starting out. Avoid jumping around between different playlists. If you encounter a concept that is challenging, search for that specific topic separately and explore other resources for a clearer understanding."
   ],
   "metadata": {
    "collapsed": false
   },
   "id": "52e41c8ee993aceb"
  },
  {
   "cell_type": "markdown",
   "source": [
    "## Solving Problems\n",
    "---\n",
    "\n",
    "As you begin your programming journey, solving problems is crucial for becoming familiar with syntax and key terms, helping them become second nature to you. Tackling problems is equally important for testing and enhancing your algorithmic thinking. This website, my brainchild, is designed to challenge both your biological knowledge and programming skills with thought-provoking and interesting problems. Along with these, I will also provide additional resources where you can practice and hone your coding abilities."
   ],
   "metadata": {
    "collapsed": false
   },
   "id": "6d27fc11315369ea"
  },
  {
   "cell_type": "markdown",
   "source": [
    "# Symbiosis\n",
    "---\n",
    "\n",
    "Lastly, I would like to emphasize the impact of having a circle of friends who share a similar mindset and eagerness for learning. When I arrived at IIT Bombay, my primary objective was to form a group of peers interested in programming. It was not imperative that they were experts; my readiness to teach them what I knew and keep them engaged was key. Their enthusiasm was what truly mattered. Throughout this journey, I have found a friend who is soon to become my colleague. Could there be a more rewarding outcome?\n",
    "\n",
    "Having a group of friends by your side, with whom you can discuss, teach, and learn, makes the entire process of skill development more manageable and enjoyable. Here is my secret tip: form a group with motivated individuals and embark on your journey together. Some might drop out, which is a natural part of the process, but others will stay with you until the end. Collaboration is greater than competition, trust me on this."
   ],
   "metadata": {
    "collapsed": false
   },
   "id": "8bcc1dbb085f39e1"
  },
  {
   "cell_type": "code",
   "execution_count": null,
   "outputs": [],
   "source": [],
   "metadata": {
    "collapsed": false
   },
   "id": "8ad2f2be4861a299"
  }
 ],
 "metadata": {
  "kernelspec": {
   "display_name": "Python 3",
   "language": "python",
   "name": "python3"
  },
  "language_info": {
   "codemirror_mode": {
    "name": "ipython",
    "version": 2
   },
   "file_extension": ".py",
   "mimetype": "text/x-python",
   "name": "python",
   "nbconvert_exporter": "python",
   "pygments_lexer": "ipython2",
   "version": "2.7.6"
  }
 },
 "nbformat": 4,
 "nbformat_minor": 5
}
