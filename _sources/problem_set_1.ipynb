{
 "cells": [
  {
   "cell_type": "markdown",
   "source": [
    "# Set 1 Questions & Solutions\n",
    "\n",
    "---"
   ],
   "metadata": {
    "collapsed": false
   }
  },
  {
   "cell_type": "markdown",
   "source": [
    " <p style=\"background-color: #fab1a0; padding: 3px 5px; border: 1px solid #ccc; border-radius: 10px; display: inline-block; width: auto; font-size: 10px;\">Subrata</p>"
   ],
   "metadata": {
    "collapsed": false
   }
  },
  {
   "cell_type": "markdown",
   "source": [
    "### Question 1: Extracting Characters from Odd Positions\n",
    "\n",
    "By taking the full name as an input from the user, print the characters of odd positions.\n"
   ],
   "metadata": {
    "collapsed": false
   }
  },
  {
   "cell_type": "markdown",
   "source": [
    "### Question 2: Logical Output of Operations\n",
    "\n",
    "Consider the following Python operations:\n",
    "\n",
    "i) `print(3.0 == 3)`\n",
    "\n",
    "ii) `print(type(5/2))`\n",
    "\n",
    "iii) `print(type(5//2))`\n",
    "\n",
    "For each operation, provide the logical output without using any code execution tools."
   ],
   "metadata": {
    "collapsed": false
   }
  },
  {
   "cell_type": "markdown",
   "source": [
    "### Question 3: Output of Code Snippets\n",
    "\n",
    "1. Consider the following code:\n",
    "\n",
    "```python\n",
    "x = 2.5\n",
    "print(type(x))\n",
    "\n",
    "x = 'Mumbai'\n",
    "print(type(x))\n",
    "```\n",
    "\n",
    "what will be the output?\n",
    "\n",
    "2. What will be the output of the following code:\n",
    "\n",
    "```\n",
    "a = 'b'\n",
    "b = 'a'\n",
    "print(a)\n",
    "```\n",
    "\n",
    "3. What will be the output of this code?\n",
    "\n",
    "```\n",
    "x = 'abc'[::2]\n",
    "y = 'xyz'[1:]\n",
    "\n",
    "print(x + y)\n",
    "print(x * 2)\n",
    "print(x + y - x)\n",
    "print(y * 2 + x)\n",
    "```"
   ],
   "metadata": {
    "collapsed": false
   }
  }
 ],
 "metadata": {
  "kernelspec": {
   "display_name": "Python 3",
   "language": "python",
   "name": "python3"
  },
  "language_info": {
   "codemirror_mode": {
    "name": "ipython",
    "version": 3
   },
   "file_extension": ".py",
   "mimetype": "text/x-python",
   "name": "python",
   "nbconvert_exporter": "python",
   "pygments_lexer": "ipython3",
   "version": "3.8.0"
  },
  "widgets": {
   "application/vnd.jupyter.widget-state+json": {
    "state": {},
    "version_major": 2,
    "version_minor": 0
   }
  }
 },
 "nbformat": 4,
 "nbformat_minor": 4
}
